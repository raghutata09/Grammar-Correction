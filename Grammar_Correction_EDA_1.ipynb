{
  "nbformat": 4,
  "nbformat_minor": 0,
  "metadata": {
    "colab": {
      "provenance": [],
      "collapsed_sections": [
        "qgPpwumLW6L7",
        "eEOiXCRPZcNE",
        "9-rDUWcbcoac",
        "g4NATlbedBN_",
        "6G1weM5ydS0i",
        "TrNkQt4MjqUV",
        "J3AWMK3IjyIa",
        "QT2bO_a8j7H-"
      ]
    },
    "kernelspec": {
      "name": "python3",
      "display_name": "Python 3"
    },
    "language_info": {
      "name": "python"
    }
  },
  "cells": [
    {
      "cell_type": "code",
      "execution_count": 14,
      "metadata": {
        "colab": {
          "base_uri": "https://localhost:8080/"
        },
        "id": "HCjlUz4aWX4E",
        "outputId": "6d886d18-8fff-491c-fdf1-4ad4aff10569"
      },
      "outputs": [
        {
          "output_type": "stream",
          "name": "stdout",
          "text": [
            "Looking in indexes: https://pypi.org/simple, https://us-python.pkg.dev/colab-wheels/public/simple/\n",
            "Requirement already satisfied: jsonlines in /usr/local/lib/python3.8/dist-packages (3.1.0)\n",
            "Requirement already satisfied: attrs>=19.2.0 in /usr/local/lib/python3.8/dist-packages (from jsonlines) (22.1.0)\n"
          ]
        }
      ],
      "source": [
        "! pip install jsonlines"
      ]
    },
    {
      "cell_type": "code",
      "source": [
        "import pandas as pd\n",
        "import numpy as np\n",
        "import os\n",
        "import jsonlines\n",
        "import re\n",
        "import matplotlib.pyplot as plt\n",
        "import seaborn as sns\n",
        "import warnings \n",
        "warnings.filterwarnings('ignore')\n",
        "from tqdm import tqdm\n",
        "from nltk.corpus import stopwords\n",
        "from wordcloud import WordCloud\n",
        "import nltk\n",
        "from nltk.tokenize import word_tokenize\n",
        "from collections import Counter\n",
        "from sklearn.feature_extraction.text import CountVectorizer"
      ],
      "metadata": {
        "id": "J4BH2FBxWiau"
      },
      "execution_count": 51,
      "outputs": []
    },
    {
      "cell_type": "code",
      "source": [
        "from google.colab import drive\n",
        "drive.mount('/content/drive')"
      ],
      "metadata": {
        "colab": {
          "base_uri": "https://localhost:8080/"
        },
        "id": "Wf4RYDkLWjy6",
        "outputId": "720afbe6-3cf7-4ea2-d9c8-7c41c31c59ed"
      },
      "execution_count": 3,
      "outputs": [
        {
          "output_type": "stream",
          "name": "stdout",
          "text": [
            "Mounted at /content/drive\n"
          ]
        }
      ]
    },
    {
      "cell_type": "code",
      "source": [
        "f1 = open(\"/content/drive/MyDrive/GrammarCorrection/entries.train\") # OPENING THE FILE \n",
        "lines1 = f1.readlines() # READING THE LINES\n",
        "inp1 = [] # LIST FOR STORING INCORRECT SENTENCES\n",
        "tgt1 = [] # LIST FOR STORING\n",
        "\n",
        "for i in lines1: # FOR EACH LINE \n",
        "    lst = i.split(\"\\t\") # WE ARE SPLITTING THE LINE AT \\t\n",
        "    \n",
        "# IF LENGTH OF THE LIST IS GREATER THAN 5 THEN CORRECT SENTTENCE EXISTS OTHERWISE ONLY INCORRECT SENTENCE IS PRESENT \n",
        "    if len(lst)>5  :     #IF LENGTH IS GREATER THAN 5  \n",
        "        inp1.append(lst[-2]) # APPEND SECONG LAST ITEM IN LIST WHICH IS INCORRECT SENTENCE\n",
        "        tgt1.append(lst[-1]) # APPEND LAST ITEM IN THE LIST WHICH IS CORRECT SENTECE."
      ],
      "metadata": {
        "id": "CDxSjkVjWlng"
      },
      "execution_count": 16,
      "outputs": []
    },
    {
      "cell_type": "code",
      "source": [
        "'''THIS CELL READS THE SMS_TEXT DATASET FILE AND EXTRACTS INCORRECT AND CORRECT SENTENCES ONLY'''\n",
        "\n",
        "\n",
        "f2 = open(\"/content/drive/MyDrive/GrammarCorrection/en2cn-2k.en2nen2cn\",\"r\",encoding=\"UTF-8\") # READING THE FILE\n",
        "\n",
        "lines2 = f2.readlines() # STORING ALL THE LINES IN A VARIABLE\n",
        "inp2 = [] # LIST FOR STORING INCORRECT SENTENCES\n",
        "tgt2 = [] # LIST FOR STORING CORRECT SENTENCES\n",
        "\n",
        "# THE DASET CONTAINS 2000 DATAPOINTS, THEREFORE RUNNING THE LOOP FOR 2000 TIMES\n",
        "for i in range(2000): \n",
        "    inp2.append(lines2[i*3]) #APPEDING FIRST ROW FOR EACH DATAPOINT\n",
        "    tgt2.append(lines2[i*3+1]) # APPENDING SECOND ROW FOR EACH DATAPOINT"
      ],
      "metadata": {
        "id": "_bIU7vSSWz-8"
      },
      "execution_count": 17,
      "outputs": []
    },
    {
      "cell_type": "markdown",
      "source": [
        "#Combining DAtaset"
      ],
      "metadata": {
        "id": "qgPpwumLW6L7"
      }
    },
    {
      "cell_type": "code",
      "source": [
        "df = pd.DataFrame() # CREATING THE DATAFRAME\n",
        "df[\"incorrect\"] = inp1+inp2 # ADDING BOTH THE LISTS OF INPUTS TO ONE COLUMN\n",
        "df[\"correct\"] =  tgt1+tgt2 # ADDING BOTH THE LISTS OF TARGETS TO ONE COLUMN\n",
        "df[\"y\"] = list(\"1\"*len(inp1)) + list(\"2\"*len(inp2))\n",
        "df"
      ],
      "metadata": {
        "colab": {
          "base_uri": "https://localhost:8080/",
          "height": 424
        },
        "id": "o2MbSo38W4mS",
        "outputId": "06de376a-ae88-4097-8547-02c4dfc0aa6b"
      },
      "execution_count": 18,
      "outputs": [
        {
          "output_type": "execute_result",
          "data": {
            "text/plain": [
              "                                                incorrect  \\\n",
              "0        And he took in my favorite subject like soccer .   \n",
              "1       Actually , who let me know about Lang - 8 was ...   \n",
              "2           His Kanji 's ability is much better than me .   \n",
              "3       We 've known each other for only half a year ,...   \n",
              "4       I heard a sentence last night when I watched TV .   \n",
              "...                                                   ...   \n",
              "511158  Hmmm... Thk i usually book on wkends... Depend...   \n",
              "511159  ask them got any sms messages to gif me lei......   \n",
              "511160                          We r near coca oredi...\\n   \n",
              "511161  hall Eleven. Got lectures le mah.èn forget abt...   \n",
              "511162  I Bring for u. I can not promise u 100% to win...   \n",
              "\n",
              "                                                  correct  y  \n",
              "0       And he took in my favorite subjects like socce...  1  \n",
              "1       Actually , he was the one who let me know abou...  1  \n",
              "2          His Kanji ability is much better than mine .\\n  1  \n",
              "3       We 've known each other for only half a year ,...  1  \n",
              "4       I heard a sentence last night when I was watch...  1  \n",
              "...                                                   ... ..  \n",
              "511158  Hmm. I think I usually book on weekends. It de...  2  \n",
              "511159  Can you ask them whether they have for any sms...  2  \n",
              "511160                        We are near Coca already.\\n  2  \n",
              "511161  Hall eleven. Got lectures. And forget about co...  2  \n",
              "511162  I bring for you. I can not promise you 100% to...  2  \n",
              "\n",
              "[511163 rows x 3 columns]"
            ],
            "text/html": [
              "\n",
              "  <div id=\"df-6e96e27d-dd9d-44ae-9241-acfa522f3397\">\n",
              "    <div class=\"colab-df-container\">\n",
              "      <div>\n",
              "<style scoped>\n",
              "    .dataframe tbody tr th:only-of-type {\n",
              "        vertical-align: middle;\n",
              "    }\n",
              "\n",
              "    .dataframe tbody tr th {\n",
              "        vertical-align: top;\n",
              "    }\n",
              "\n",
              "    .dataframe thead th {\n",
              "        text-align: right;\n",
              "    }\n",
              "</style>\n",
              "<table border=\"1\" class=\"dataframe\">\n",
              "  <thead>\n",
              "    <tr style=\"text-align: right;\">\n",
              "      <th></th>\n",
              "      <th>incorrect</th>\n",
              "      <th>correct</th>\n",
              "      <th>y</th>\n",
              "    </tr>\n",
              "  </thead>\n",
              "  <tbody>\n",
              "    <tr>\n",
              "      <th>0</th>\n",
              "      <td>And he took in my favorite subject like soccer .</td>\n",
              "      <td>And he took in my favorite subjects like socce...</td>\n",
              "      <td>1</td>\n",
              "    </tr>\n",
              "    <tr>\n",
              "      <th>1</th>\n",
              "      <td>Actually , who let me know about Lang - 8 was ...</td>\n",
              "      <td>Actually , he was the one who let me know abou...</td>\n",
              "      <td>1</td>\n",
              "    </tr>\n",
              "    <tr>\n",
              "      <th>2</th>\n",
              "      <td>His Kanji 's ability is much better than me .</td>\n",
              "      <td>His Kanji ability is much better than mine .\\n</td>\n",
              "      <td>1</td>\n",
              "    </tr>\n",
              "    <tr>\n",
              "      <th>3</th>\n",
              "      <td>We 've known each other for only half a year ,...</td>\n",
              "      <td>We 've known each other for only half a year ,...</td>\n",
              "      <td>1</td>\n",
              "    </tr>\n",
              "    <tr>\n",
              "      <th>4</th>\n",
              "      <td>I heard a sentence last night when I watched TV .</td>\n",
              "      <td>I heard a sentence last night when I was watch...</td>\n",
              "      <td>1</td>\n",
              "    </tr>\n",
              "    <tr>\n",
              "      <th>...</th>\n",
              "      <td>...</td>\n",
              "      <td>...</td>\n",
              "      <td>...</td>\n",
              "    </tr>\n",
              "    <tr>\n",
              "      <th>511158</th>\n",
              "      <td>Hmmm... Thk i usually book on wkends... Depend...</td>\n",
              "      <td>Hmm. I think I usually book on weekends. It de...</td>\n",
              "      <td>2</td>\n",
              "    </tr>\n",
              "    <tr>\n",
              "      <th>511159</th>\n",
              "      <td>ask them got any sms messages to gif me lei......</td>\n",
              "      <td>Can you ask them whether they have for any sms...</td>\n",
              "      <td>2</td>\n",
              "    </tr>\n",
              "    <tr>\n",
              "      <th>511160</th>\n",
              "      <td>We r near coca oredi...\\n</td>\n",
              "      <td>We are near Coca already.\\n</td>\n",
              "      <td>2</td>\n",
              "    </tr>\n",
              "    <tr>\n",
              "      <th>511161</th>\n",
              "      <td>hall Eleven. Got lectures le mah.èn forget abt...</td>\n",
              "      <td>Hall eleven. Got lectures. And forget about co...</td>\n",
              "      <td>2</td>\n",
              "    </tr>\n",
              "    <tr>\n",
              "      <th>511162</th>\n",
              "      <td>I Bring for u. I can not promise u 100% to win...</td>\n",
              "      <td>I bring for you. I can not promise you 100% to...</td>\n",
              "      <td>2</td>\n",
              "    </tr>\n",
              "  </tbody>\n",
              "</table>\n",
              "<p>511163 rows × 3 columns</p>\n",
              "</div>\n",
              "      <button class=\"colab-df-convert\" onclick=\"convertToInteractive('df-6e96e27d-dd9d-44ae-9241-acfa522f3397')\"\n",
              "              title=\"Convert this dataframe to an interactive table.\"\n",
              "              style=\"display:none;\">\n",
              "        \n",
              "  <svg xmlns=\"http://www.w3.org/2000/svg\" height=\"24px\"viewBox=\"0 0 24 24\"\n",
              "       width=\"24px\">\n",
              "    <path d=\"M0 0h24v24H0V0z\" fill=\"none\"/>\n",
              "    <path d=\"M18.56 5.44l.94 2.06.94-2.06 2.06-.94-2.06-.94-.94-2.06-.94 2.06-2.06.94zm-11 1L8.5 8.5l.94-2.06 2.06-.94-2.06-.94L8.5 2.5l-.94 2.06-2.06.94zm10 10l.94 2.06.94-2.06 2.06-.94-2.06-.94-.94-2.06-.94 2.06-2.06.94z\"/><path d=\"M17.41 7.96l-1.37-1.37c-.4-.4-.92-.59-1.43-.59-.52 0-1.04.2-1.43.59L10.3 9.45l-7.72 7.72c-.78.78-.78 2.05 0 2.83L4 21.41c.39.39.9.59 1.41.59.51 0 1.02-.2 1.41-.59l7.78-7.78 2.81-2.81c.8-.78.8-2.07 0-2.86zM5.41 20L4 18.59l7.72-7.72 1.47 1.35L5.41 20z\"/>\n",
              "  </svg>\n",
              "      </button>\n",
              "      \n",
              "  <style>\n",
              "    .colab-df-container {\n",
              "      display:flex;\n",
              "      flex-wrap:wrap;\n",
              "      gap: 12px;\n",
              "    }\n",
              "\n",
              "    .colab-df-convert {\n",
              "      background-color: #E8F0FE;\n",
              "      border: none;\n",
              "      border-radius: 50%;\n",
              "      cursor: pointer;\n",
              "      display: none;\n",
              "      fill: #1967D2;\n",
              "      height: 32px;\n",
              "      padding: 0 0 0 0;\n",
              "      width: 32px;\n",
              "    }\n",
              "\n",
              "    .colab-df-convert:hover {\n",
              "      background-color: #E2EBFA;\n",
              "      box-shadow: 0px 1px 2px rgba(60, 64, 67, 0.3), 0px 1px 3px 1px rgba(60, 64, 67, 0.15);\n",
              "      fill: #174EA6;\n",
              "    }\n",
              "\n",
              "    [theme=dark] .colab-df-convert {\n",
              "      background-color: #3B4455;\n",
              "      fill: #D2E3FC;\n",
              "    }\n",
              "\n",
              "    [theme=dark] .colab-df-convert:hover {\n",
              "      background-color: #434B5C;\n",
              "      box-shadow: 0px 1px 3px 1px rgba(0, 0, 0, 0.15);\n",
              "      filter: drop-shadow(0px 1px 2px rgba(0, 0, 0, 0.3));\n",
              "      fill: #FFFFFF;\n",
              "    }\n",
              "  </style>\n",
              "\n",
              "      <script>\n",
              "        const buttonEl =\n",
              "          document.querySelector('#df-6e96e27d-dd9d-44ae-9241-acfa522f3397 button.colab-df-convert');\n",
              "        buttonEl.style.display =\n",
              "          google.colab.kernel.accessAllowed ? 'block' : 'none';\n",
              "\n",
              "        async function convertToInteractive(key) {\n",
              "          const element = document.querySelector('#df-6e96e27d-dd9d-44ae-9241-acfa522f3397');\n",
              "          const dataTable =\n",
              "            await google.colab.kernel.invokeFunction('convertToInteractive',\n",
              "                                                     [key], {});\n",
              "          if (!dataTable) return;\n",
              "\n",
              "          const docLinkHtml = 'Like what you see? Visit the ' +\n",
              "            '<a target=\"_blank\" href=https://colab.research.google.com/notebooks/data_table.ipynb>data table notebook</a>'\n",
              "            + ' to learn more about interactive tables.';\n",
              "          element.innerHTML = '';\n",
              "          dataTable['output_type'] = 'display_data';\n",
              "          await google.colab.output.renderOutput(dataTable, element);\n",
              "          const docLink = document.createElement('div');\n",
              "          docLink.innerHTML = docLinkHtml;\n",
              "          element.appendChild(docLink);\n",
              "        }\n",
              "      </script>\n",
              "    </div>\n",
              "  </div>\n",
              "  "
            ]
          },
          "metadata": {},
          "execution_count": 18
        }
      ]
    },
    {
      "cell_type": "markdown",
      "source": [
        "#Data Preprocessing\n"
      ],
      "metadata": {
        "id": "eEOiXCRPZcNE"
      }
    },
    {
      "cell_type": "code",
      "source": [
        "def remove_spaces(data):\n",
        "  data = re.sub(r\" '(\\w)\",r\"'\\1\",data)\n",
        "  data = re.sub(r\" \\,\",\",\",data)\n",
        "  data = re.sub(r\" \\.+\",\".\",data)\n",
        "  data = re.sub(r\" \\?+\",\"?\",data)\n",
        "  data = re.sub(r\" \\!+\",\"!\",data)\n",
        "  data = re.sub(\" n't\",\"n't\",data)\n",
        "  data = re.sub(\"[\\(\\)\\;\\_\\^\\`\\/]\",\"\",data)\n",
        "  return data\n",
        "\n",
        "#https://www.analyticsvidhya.com/blog/2020/04/beginners-guide-exploratory-data-analysis-text-data/\n",
        "def decontract(data):\n",
        "  contractions_dict = { \"ain't\": \"are not\",\"'s\":\" is\",\"aren't\": \"are not\", \"can't\": \"cannot\",\"can't've\": \"cannot have\",\n",
        "                     \"'cause\": \"because\",\"could've\": \"could have\",\"couldn't\": \"could not\",\"couldn't've\": \"could not have\", \"didn't\": \"did not\",\n",
        "                     \"doesn't\": \"does not\",\"don't\": \"do not\",\"hadn't\": \"had not\",\"hadn't've\": \"had not have\",\n",
        "                     \"hasn't\": \"has not\",\"haven't\": \"have not\",\"he'd\": \"he would\",\"he'd've\": \"he would have\",\"he'll\": \"he will\",\n",
        "                    \"he'll've\": \"he will have\",\"how'd\": \"how did\",\"how'd'y\": \"how do you\",\"how'll\": \"how will\",\n",
        "                     \"I'd\": \"I would\", \"I'd've\": \"I would have\",\"I'll\": \"I will\",\"I'll've\": \"I will have\",\"I'm\": \"I am\",\n",
        "                     \"I've\": \"I have\", \"isn't\": \"is not\",\"it'd\": \"it would\",\"it'd've\": \"it would have\",\"it'll\": \"it will\",\n",
        "                     \"it'll've\": \"it will have\", \"let's\": \"let us\",\"ma'am\": \"madam\",\"mayn't\": \"may not\",\"might've\": \"might have\",\"mightn't\": \"might not\", \n",
        "                     \"mightn't've\": \"might not have\",\"must've\": \"must have\",\"mustn't\": \"must not\",\n",
        "                     \"mustn't've\": \"must not have\", \"needn't\": \"need not\",\"needn't've\": \"need not have\",\"o'clock\": \"of the clock\",\n",
        "                     \"oughtn't\": \"ought not\",\"oughtn't've\": \"ought not have\",\"shan't\": \"shall not\",\"sha'n't\": \"shall not\",\n",
        "                     \"shan't've\": \"shall not have\",\"she'd\": \"she would\",\"she'd've\": \"she would have\",\n",
        "                     \"she'll\": \"she will\", \"she'll've\": \"she will have\",\"should've\": \"should have\",\n",
        "                     \"shouldn't\": \"should not\", \"shouldn't've\": \"should not have\",\"so've\": \"so have\",\n",
        "                     \"that'd\": \"that would\",\"that'd've\": \"that would have\", \"there'd\": \"there would\",\n",
        "                     \"there'd've\": \"there would have\", \"they'd\": \"they would\",\"they'd've\": \"they would have\",\"they'll\": \"they will\",\n",
        "                     \"they'll've\": \"they will have\", \"they're\": \"they are\",\"they've\": \"they have\",\n",
        "                     \"to've\": \"to have\",\"wasn't\": \"was not\",\"we'd\": \"we would\",\"we'd've\": \"we would have\",\"we'll\": \"we will\",\n",
        "                     \"we'll've\": \"we will have\",\"we're\": \"we are\",\"we've\": \"we have\", \"weren't\": \"were not\",\"what'll\": \"what will\",\n",
        "                     \"what'll've\": \"what will have\",\"what're\": \"what are\", \"what've\": \"what have\",\"when've\": \"when have\",\"where'd\": \"where did\",\n",
        "                    \"where've\": \"where have\",\"who'll\": \"who will\",\"who'll've\": \"who will have\",\"who've\": \"who have\",\n",
        "                     \"why've\": \"why have\",\"will've\": \"will have\",\"won't\": \"will not\",\"won't've\": \"will not have\", \"would've\": \"would have\",\n",
        "                     \"wouldn't\": \"would not\",\"wouldn't've\": \"would not have\",\"y'all\": \"you all\", \"y'all'd\": \"you all would\",\n",
        "                     \"y'all'd've\": \"you all would have\",\"y'all're\": \"you all are\",\"y'all've\": \"you all have\", \"you'd\": \"you would\",\"you'd've\": \"you would have\",\n",
        "                     \"you'll\": \"you will\",\"you'll've\": \"you will have\", \"you're\": \"you are\",\"you've\": \"you have\",\"n\\'t\":\" not\",\"\\'re\":\" are\",\"\\'s\": \" is\",\"\\'d\":\" would\",\n",
        "                     \"\\'ll\": \" will\",\"\\'t\":\" not\",\"\\'ve\": \" have\",\"\\'m\":\" am\"}\n",
        "  for k,v in contractions_dict.items():\n",
        "    if(k in data):\n",
        "      data = re.sub(k, v, data)\n",
        "  return data\n",
        "\n",
        "\n",
        "def preprocess(data):\n",
        "  data = re.sub(\"\\n\",\"\",data)\n",
        "  data = remove_spaces(data)   # REMOVING UNWANTED SPACES\n",
        "  data = re.sub(r\"\\.+\",\".\",data)\n",
        "  data = re.sub(r\"\\!+\",\"!\",data)\n",
        "  data = decontract(data)    # DECONTRACTION\n",
        "  data = re.sub(\"[^A-Za-z0-9 ]+\",\"\",data)\n",
        "  data = data.lower()\n",
        "  return data"
      ],
      "metadata": {
        "id": "hRd3Okm3ZdTT"
      },
      "execution_count": 19,
      "outputs": []
    },
    {
      "cell_type": "code",
      "source": [
        "df.head(2)"
      ],
      "metadata": {
        "colab": {
          "base_uri": "https://localhost:8080/",
          "height": 112
        },
        "id": "tCwimxf1b2vl",
        "outputId": "007a5fd0-3574-462a-d8b1-b62119fd18f4"
      },
      "execution_count": 20,
      "outputs": [
        {
          "output_type": "execute_result",
          "data": {
            "text/plain": [
              "                                           incorrect  \\\n",
              "0   And he took in my favorite subject like soccer .   \n",
              "1  Actually , who let me know about Lang - 8 was ...   \n",
              "\n",
              "                                             correct  y  \n",
              "0  And he took in my favorite subjects like socce...  1  \n",
              "1  Actually , he was the one who let me know abou...  1  "
            ],
            "text/html": [
              "\n",
              "  <div id=\"df-7c3a6696-5e19-4fa8-9042-0388acd42564\">\n",
              "    <div class=\"colab-df-container\">\n",
              "      <div>\n",
              "<style scoped>\n",
              "    .dataframe tbody tr th:only-of-type {\n",
              "        vertical-align: middle;\n",
              "    }\n",
              "\n",
              "    .dataframe tbody tr th {\n",
              "        vertical-align: top;\n",
              "    }\n",
              "\n",
              "    .dataframe thead th {\n",
              "        text-align: right;\n",
              "    }\n",
              "</style>\n",
              "<table border=\"1\" class=\"dataframe\">\n",
              "  <thead>\n",
              "    <tr style=\"text-align: right;\">\n",
              "      <th></th>\n",
              "      <th>incorrect</th>\n",
              "      <th>correct</th>\n",
              "      <th>y</th>\n",
              "    </tr>\n",
              "  </thead>\n",
              "  <tbody>\n",
              "    <tr>\n",
              "      <th>0</th>\n",
              "      <td>And he took in my favorite subject like soccer .</td>\n",
              "      <td>And he took in my favorite subjects like socce...</td>\n",
              "      <td>1</td>\n",
              "    </tr>\n",
              "    <tr>\n",
              "      <th>1</th>\n",
              "      <td>Actually , who let me know about Lang - 8 was ...</td>\n",
              "      <td>Actually , he was the one who let me know abou...</td>\n",
              "      <td>1</td>\n",
              "    </tr>\n",
              "  </tbody>\n",
              "</table>\n",
              "</div>\n",
              "      <button class=\"colab-df-convert\" onclick=\"convertToInteractive('df-7c3a6696-5e19-4fa8-9042-0388acd42564')\"\n",
              "              title=\"Convert this dataframe to an interactive table.\"\n",
              "              style=\"display:none;\">\n",
              "        \n",
              "  <svg xmlns=\"http://www.w3.org/2000/svg\" height=\"24px\"viewBox=\"0 0 24 24\"\n",
              "       width=\"24px\">\n",
              "    <path d=\"M0 0h24v24H0V0z\" fill=\"none\"/>\n",
              "    <path d=\"M18.56 5.44l.94 2.06.94-2.06 2.06-.94-2.06-.94-.94-2.06-.94 2.06-2.06.94zm-11 1L8.5 8.5l.94-2.06 2.06-.94-2.06-.94L8.5 2.5l-.94 2.06-2.06.94zm10 10l.94 2.06.94-2.06 2.06-.94-2.06-.94-.94-2.06-.94 2.06-2.06.94z\"/><path d=\"M17.41 7.96l-1.37-1.37c-.4-.4-.92-.59-1.43-.59-.52 0-1.04.2-1.43.59L10.3 9.45l-7.72 7.72c-.78.78-.78 2.05 0 2.83L4 21.41c.39.39.9.59 1.41.59.51 0 1.02-.2 1.41-.59l7.78-7.78 2.81-2.81c.8-.78.8-2.07 0-2.86zM5.41 20L4 18.59l7.72-7.72 1.47 1.35L5.41 20z\"/>\n",
              "  </svg>\n",
              "      </button>\n",
              "      \n",
              "  <style>\n",
              "    .colab-df-container {\n",
              "      display:flex;\n",
              "      flex-wrap:wrap;\n",
              "      gap: 12px;\n",
              "    }\n",
              "\n",
              "    .colab-df-convert {\n",
              "      background-color: #E8F0FE;\n",
              "      border: none;\n",
              "      border-radius: 50%;\n",
              "      cursor: pointer;\n",
              "      display: none;\n",
              "      fill: #1967D2;\n",
              "      height: 32px;\n",
              "      padding: 0 0 0 0;\n",
              "      width: 32px;\n",
              "    }\n",
              "\n",
              "    .colab-df-convert:hover {\n",
              "      background-color: #E2EBFA;\n",
              "      box-shadow: 0px 1px 2px rgba(60, 64, 67, 0.3), 0px 1px 3px 1px rgba(60, 64, 67, 0.15);\n",
              "      fill: #174EA6;\n",
              "    }\n",
              "\n",
              "    [theme=dark] .colab-df-convert {\n",
              "      background-color: #3B4455;\n",
              "      fill: #D2E3FC;\n",
              "    }\n",
              "\n",
              "    [theme=dark] .colab-df-convert:hover {\n",
              "      background-color: #434B5C;\n",
              "      box-shadow: 0px 1px 3px 1px rgba(0, 0, 0, 0.15);\n",
              "      filter: drop-shadow(0px 1px 2px rgba(0, 0, 0, 0.3));\n",
              "      fill: #FFFFFF;\n",
              "    }\n",
              "  </style>\n",
              "\n",
              "      <script>\n",
              "        const buttonEl =\n",
              "          document.querySelector('#df-7c3a6696-5e19-4fa8-9042-0388acd42564 button.colab-df-convert');\n",
              "        buttonEl.style.display =\n",
              "          google.colab.kernel.accessAllowed ? 'block' : 'none';\n",
              "\n",
              "        async function convertToInteractive(key) {\n",
              "          const element = document.querySelector('#df-7c3a6696-5e19-4fa8-9042-0388acd42564');\n",
              "          const dataTable =\n",
              "            await google.colab.kernel.invokeFunction('convertToInteractive',\n",
              "                                                     [key], {});\n",
              "          if (!dataTable) return;\n",
              "\n",
              "          const docLinkHtml = 'Like what you see? Visit the ' +\n",
              "            '<a target=\"_blank\" href=https://colab.research.google.com/notebooks/data_table.ipynb>data table notebook</a>'\n",
              "            + ' to learn more about interactive tables.';\n",
              "          element.innerHTML = '';\n",
              "          dataTable['output_type'] = 'display_data';\n",
              "          await google.colab.output.renderOutput(dataTable, element);\n",
              "          const docLink = document.createElement('div');\n",
              "          docLink.innerHTML = docLinkHtml;\n",
              "          element.appendChild(docLink);\n",
              "        }\n",
              "      </script>\n",
              "    </div>\n",
              "  </div>\n",
              "  "
            ]
          },
          "metadata": {},
          "execution_count": 20
        }
      ]
    },
    {
      "cell_type": "markdown",
      "source": [
        "#Exploartory Data Analysis"
      ],
      "metadata": {
        "id": "5m8-34rIcVOb"
      }
    },
    {
      "cell_type": "markdown",
      "source": [
        "##Removing null values"
      ],
      "metadata": {
        "id": "9-rDUWcbcoac"
      }
    },
    {
      "cell_type": "code",
      "source": [
        "df[df.isna().any(axis=1)]"
      ],
      "metadata": {
        "id": "V_eCL9necXbZ",
        "colab": {
          "base_uri": "https://localhost:8080/",
          "height": 49
        },
        "outputId": "c37ea5d6-fc79-45ce-b822-99170ed91272"
      },
      "execution_count": 21,
      "outputs": [
        {
          "output_type": "execute_result",
          "data": {
            "text/plain": [
              "Empty DataFrame\n",
              "Columns: [incorrect, correct, y]\n",
              "Index: []"
            ],
            "text/html": [
              "\n",
              "  <div id=\"df-687b3a54-d63b-4e18-8dbf-14101e1758b0\">\n",
              "    <div class=\"colab-df-container\">\n",
              "      <div>\n",
              "<style scoped>\n",
              "    .dataframe tbody tr th:only-of-type {\n",
              "        vertical-align: middle;\n",
              "    }\n",
              "\n",
              "    .dataframe tbody tr th {\n",
              "        vertical-align: top;\n",
              "    }\n",
              "\n",
              "    .dataframe thead th {\n",
              "        text-align: right;\n",
              "    }\n",
              "</style>\n",
              "<table border=\"1\" class=\"dataframe\">\n",
              "  <thead>\n",
              "    <tr style=\"text-align: right;\">\n",
              "      <th></th>\n",
              "      <th>incorrect</th>\n",
              "      <th>correct</th>\n",
              "      <th>y</th>\n",
              "    </tr>\n",
              "  </thead>\n",
              "  <tbody>\n",
              "  </tbody>\n",
              "</table>\n",
              "</div>\n",
              "      <button class=\"colab-df-convert\" onclick=\"convertToInteractive('df-687b3a54-d63b-4e18-8dbf-14101e1758b0')\"\n",
              "              title=\"Convert this dataframe to an interactive table.\"\n",
              "              style=\"display:none;\">\n",
              "        \n",
              "  <svg xmlns=\"http://www.w3.org/2000/svg\" height=\"24px\"viewBox=\"0 0 24 24\"\n",
              "       width=\"24px\">\n",
              "    <path d=\"M0 0h24v24H0V0z\" fill=\"none\"/>\n",
              "    <path d=\"M18.56 5.44l.94 2.06.94-2.06 2.06-.94-2.06-.94-.94-2.06-.94 2.06-2.06.94zm-11 1L8.5 8.5l.94-2.06 2.06-.94-2.06-.94L8.5 2.5l-.94 2.06-2.06.94zm10 10l.94 2.06.94-2.06 2.06-.94-2.06-.94-.94-2.06-.94 2.06-2.06.94z\"/><path d=\"M17.41 7.96l-1.37-1.37c-.4-.4-.92-.59-1.43-.59-.52 0-1.04.2-1.43.59L10.3 9.45l-7.72 7.72c-.78.78-.78 2.05 0 2.83L4 21.41c.39.39.9.59 1.41.59.51 0 1.02-.2 1.41-.59l7.78-7.78 2.81-2.81c.8-.78.8-2.07 0-2.86zM5.41 20L4 18.59l7.72-7.72 1.47 1.35L5.41 20z\"/>\n",
              "  </svg>\n",
              "      </button>\n",
              "      \n",
              "  <style>\n",
              "    .colab-df-container {\n",
              "      display:flex;\n",
              "      flex-wrap:wrap;\n",
              "      gap: 12px;\n",
              "    }\n",
              "\n",
              "    .colab-df-convert {\n",
              "      background-color: #E8F0FE;\n",
              "      border: none;\n",
              "      border-radius: 50%;\n",
              "      cursor: pointer;\n",
              "      display: none;\n",
              "      fill: #1967D2;\n",
              "      height: 32px;\n",
              "      padding: 0 0 0 0;\n",
              "      width: 32px;\n",
              "    }\n",
              "\n",
              "    .colab-df-convert:hover {\n",
              "      background-color: #E2EBFA;\n",
              "      box-shadow: 0px 1px 2px rgba(60, 64, 67, 0.3), 0px 1px 3px 1px rgba(60, 64, 67, 0.15);\n",
              "      fill: #174EA6;\n",
              "    }\n",
              "\n",
              "    [theme=dark] .colab-df-convert {\n",
              "      background-color: #3B4455;\n",
              "      fill: #D2E3FC;\n",
              "    }\n",
              "\n",
              "    [theme=dark] .colab-df-convert:hover {\n",
              "      background-color: #434B5C;\n",
              "      box-shadow: 0px 1px 3px 1px rgba(0, 0, 0, 0.15);\n",
              "      filter: drop-shadow(0px 1px 2px rgba(0, 0, 0, 0.3));\n",
              "      fill: #FFFFFF;\n",
              "    }\n",
              "  </style>\n",
              "\n",
              "      <script>\n",
              "        const buttonEl =\n",
              "          document.querySelector('#df-687b3a54-d63b-4e18-8dbf-14101e1758b0 button.colab-df-convert');\n",
              "        buttonEl.style.display =\n",
              "          google.colab.kernel.accessAllowed ? 'block' : 'none';\n",
              "\n",
              "        async function convertToInteractive(key) {\n",
              "          const element = document.querySelector('#df-687b3a54-d63b-4e18-8dbf-14101e1758b0');\n",
              "          const dataTable =\n",
              "            await google.colab.kernel.invokeFunction('convertToInteractive',\n",
              "                                                     [key], {});\n",
              "          if (!dataTable) return;\n",
              "\n",
              "          const docLinkHtml = 'Like what you see? Visit the ' +\n",
              "            '<a target=\"_blank\" href=https://colab.research.google.com/notebooks/data_table.ipynb>data table notebook</a>'\n",
              "            + ' to learn more about interactive tables.';\n",
              "          element.innerHTML = '';\n",
              "          dataTable['output_type'] = 'display_data';\n",
              "          await google.colab.output.renderOutput(dataTable, element);\n",
              "          const docLink = document.createElement('div');\n",
              "          docLink.innerHTML = docLinkHtml;\n",
              "          element.appendChild(docLink);\n",
              "        }\n",
              "      </script>\n",
              "    </div>\n",
              "  </div>\n",
              "  "
            ]
          },
          "metadata": {},
          "execution_count": 21
        }
      ]
    },
    {
      "cell_type": "code",
      "source": [
        "df.dropna(axis=0, how='any', inplace=True)\n",
        "df.reset_index(drop=True, inplace=True)\n",
        "df.shape"
      ],
      "metadata": {
        "colab": {
          "base_uri": "https://localhost:8080/"
        },
        "id": "iGP5j9ABOAyq",
        "outputId": "215d7b92-0bfd-4b3a-d905-49d0c97fba4d"
      },
      "execution_count": 22,
      "outputs": [
        {
          "output_type": "execute_result",
          "data": {
            "text/plain": [
              "(511163, 3)"
            ]
          },
          "metadata": {},
          "execution_count": 22
        }
      ]
    },
    {
      "cell_type": "markdown",
      "source": [
        "##Removing Duplicates"
      ],
      "metadata": {
        "id": "g4NATlbedBN_"
      }
    },
    {
      "cell_type": "code",
      "source": [
        "print(df.duplicated(['correct','incorrect']).values.sum())\n",
        "\n",
        "\n",
        "df.drop_duplicates(['correct','incorrect'], inplace=True, keep='first')\n",
        "df.reset_index(drop=True, inplace=True)\n",
        "df.shape\n"
      ],
      "metadata": {
        "colab": {
          "base_uri": "https://localhost:8080/"
        },
        "id": "dtg08YuZc_p6",
        "outputId": "f97c3d56-0199-4554-856e-319f7b242510"
      },
      "execution_count": 23,
      "outputs": [
        {
          "output_type": "stream",
          "name": "stdout",
          "text": [
            "2265\n"
          ]
        },
        {
          "output_type": "execute_result",
          "data": {
            "text/plain": [
              "(508898, 3)"
            ]
          },
          "metadata": {},
          "execution_count": 23
        }
      ]
    },
    {
      "cell_type": "markdown",
      "source": [
        "OBSERVATION:\n",
        "\n",
        "> By dropping duplicates and null values we can reduce the number of datapoints from 511163 to 505910\n",
        "\n",
        "\n"
      ],
      "metadata": {
        "id": "zAS7MESydJzt"
      }
    },
    {
      "cell_type": "markdown",
      "source": [
        "##Preprocess"
      ],
      "metadata": {
        "id": "h5JZCy9-OnmM"
      }
    },
    {
      "cell_type": "code",
      "source": [
        "df['incorrect'] = df['incorrect'].apply(decontract)\n",
        "df['correct'] = df['correct'].apply(decontract)"
      ],
      "metadata": {
        "id": "yEIAfQoDOhfW"
      },
      "execution_count": 24,
      "outputs": []
    },
    {
      "cell_type": "code",
      "source": [
        "df.isna().any()"
      ],
      "metadata": {
        "colab": {
          "base_uri": "https://localhost:8080/"
        },
        "id": "b8PmopmnOwkV",
        "outputId": "72510b50-04cb-4d43-81f7-e109647d3b1f"
      },
      "execution_count": 26,
      "outputs": [
        {
          "output_type": "execute_result",
          "data": {
            "text/plain": [
              "incorrect    False\n",
              "correct      False\n",
              "y            False\n",
              "dtype: bool"
            ]
          },
          "metadata": {},
          "execution_count": 26
        }
      ]
    },
    {
      "cell_type": "code",
      "source": [
        "df[(df['incorrect'] == '') | (df['correct'] == '')].shape"
      ],
      "metadata": {
        "colab": {
          "base_uri": "https://localhost:8080/"
        },
        "id": "S3E2hsCIO43G",
        "outputId": "f1315382-6618-4d05-f0e0-8d3981dcb290"
      },
      "execution_count": 27,
      "outputs": [
        {
          "output_type": "execute_result",
          "data": {
            "text/plain": [
              "(0, 3)"
            ]
          },
          "metadata": {},
          "execution_count": 27
        }
      ]
    },
    {
      "cell_type": "markdown",
      "source": [
        "#Univariate Analysys"
      ],
      "metadata": {
        "id": "nM8h3gUCPVxu"
      }
    },
    {
      "cell_type": "markdown",
      "source": [
        "##Analysys in chars"
      ],
      "metadata": {
        "id": "eP-RZ0oGQiOg"
      }
    },
    {
      "cell_type": "markdown",
      "source": [
        "###Incorrect"
      ],
      "metadata": {
        "id": "QFUibLqkP_ra"
      }
    },
    {
      "cell_type": "code",
      "source": [
        "char_count = lambda x: len(str(x))\n",
        "df['incorrect_char_len'] = df['incorrect'].apply(char_count)\n",
        "df['correct_char_len'] = df['correct'].apply(char_count)\n",
        "\n",
        "df['incorrect_char_len'].min(), df['incorrect_char_len'].max()"
      ],
      "metadata": {
        "colab": {
          "base_uri": "https://localhost:8080/"
        },
        "id": "D_2sFdPnPZaK",
        "outputId": "6ee7bcb2-9a09-4db7-8e7b-61313fd2346e"
      },
      "execution_count": 28,
      "outputs": [
        {
          "output_type": "execute_result",
          "data": {
            "text/plain": [
              "(1, 2534)"
            ]
          },
          "metadata": {},
          "execution_count": 28
        }
      ]
    },
    {
      "cell_type": "code",
      "source": [
        "df = df[df['incorrect_char_len'] > 1]\n",
        "df.reset_index(drop=True, inplace=True)\n",
        "df.shape"
      ],
      "metadata": {
        "colab": {
          "base_uri": "https://localhost:8080/"
        },
        "id": "uAuyFx6ZPvCi",
        "outputId": "8d239520-fa40-4922-a3bd-fa938d6be049"
      },
      "execution_count": 30,
      "outputs": [
        {
          "output_type": "execute_result",
          "data": {
            "text/plain": [
              "(508893, 5)"
            ]
          },
          "metadata": {},
          "execution_count": 30
        }
      ]
    },
    {
      "cell_type": "code",
      "source": [
        "for p in range(0,101,10):\n",
        "  p_value = np.percentile(df['incorrect_char_len'].values, p)\n",
        "  print(f'{p} th percentile value is: {p_value}')"
      ],
      "metadata": {
        "colab": {
          "base_uri": "https://localhost:8080/"
        },
        "id": "elmNFzOfP1t6",
        "outputId": "46b4fbbf-5eb6-4d3e-a784-90e367bf3a26"
      },
      "execution_count": 31,
      "outputs": [
        {
          "output_type": "stream",
          "name": "stdout",
          "text": [
            "0 th percentile value is: 2.0\n",
            "10 th percentile value is: 26.0\n",
            "20 th percentile value is: 34.0\n",
            "30 th percentile value is: 41.0\n",
            "40 th percentile value is: 47.0\n",
            "50 th percentile value is: 55.0\n",
            "60 th percentile value is: 63.0\n",
            "70 th percentile value is: 72.0\n",
            "80 th percentile value is: 85.0\n",
            "90 th percentile value is: 109.0\n",
            "100 th percentile value is: 2534.0\n"
          ]
        }
      ]
    },
    {
      "cell_type": "code",
      "source": [
        "for p in range(90,101):\n",
        "  p_value = np.percentile(df['incorrect_char_len'].values, p)\n",
        "  print(f'{p} th percentile value is: {p_value}')\n",
        "     "
      ],
      "metadata": {
        "colab": {
          "base_uri": "https://localhost:8080/"
        },
        "id": "KwfyNa2IP2ls",
        "outputId": "e47dc14d-b79c-41ca-a61d-84e0f9ca2103"
      },
      "execution_count": 32,
      "outputs": [
        {
          "output_type": "stream",
          "name": "stdout",
          "text": [
            "90 th percentile value is: 109.0\n",
            "91 th percentile value is: 112.0\n",
            "92 th percentile value is: 116.0\n",
            "93 th percentile value is: 121.0\n",
            "94 th percentile value is: 126.0\n",
            "95 th percentile value is: 132.0\n",
            "96 th percentile value is: 140.0\n",
            "97 th percentile value is: 150.0\n",
            "98 th percentile value is: 165.0\n",
            "99 th percentile value is: 191.0\n",
            "100 th percentile value is: 2534.0\n"
          ]
        }
      ]
    },
    {
      "cell_type": "markdown",
      "source": [
        "###Correct"
      ],
      "metadata": {
        "id": "zlwyq1RPQDBN"
      }
    },
    {
      "cell_type": "code",
      "source": [
        "df['correct_char_len'].min(), df['correct_char_len'].max()"
      ],
      "metadata": {
        "colab": {
          "base_uri": "https://localhost:8080/"
        },
        "id": "zWx1-DzbQFqI",
        "outputId": "2ac9f28c-7122-424b-8542-875b15bbca82"
      },
      "execution_count": 33,
      "outputs": [
        {
          "output_type": "execute_result",
          "data": {
            "text/plain": [
              "(2, 2640)"
            ]
          },
          "metadata": {},
          "execution_count": 33
        }
      ]
    },
    {
      "cell_type": "code",
      "source": [
        "for p in range(0,101,10):\n",
        "  p_value = np.percentile(df['correct_char_len'].values, p)\n",
        "  print(f'{p} th percentile value is: {p_value}')"
      ],
      "metadata": {
        "colab": {
          "base_uri": "https://localhost:8080/"
        },
        "id": "cmG8ZfmGQKXb",
        "outputId": "7fb5be83-41e2-41f7-a2d1-76f0ac60180c"
      },
      "execution_count": 34,
      "outputs": [
        {
          "output_type": "stream",
          "name": "stdout",
          "text": [
            "0 th percentile value is: 2.0\n",
            "10 th percentile value is: 28.0\n",
            "20 th percentile value is: 37.0\n",
            "30 th percentile value is: 43.0\n",
            "40 th percentile value is: 50.0\n",
            "50 th percentile value is: 57.0\n",
            "60 th percentile value is: 66.0\n",
            "70 th percentile value is: 75.0\n",
            "80 th percentile value is: 89.0\n",
            "90 th percentile value is: 112.0\n",
            "100 th percentile value is: 2640.0\n"
          ]
        }
      ]
    },
    {
      "cell_type": "code",
      "source": [
        "for p in range(90,101):\n",
        "  p_value = np.percentile(df['correct_char_len'].values, p)\n",
        "  print(f'{p} th percentile value is: {p_value}')\n",
        "     "
      ],
      "metadata": {
        "colab": {
          "base_uri": "https://localhost:8080/"
        },
        "id": "vy-MzPzyQR3b",
        "outputId": "58ec0f4f-b045-421e-ceef-57674fedc61d"
      },
      "execution_count": 35,
      "outputs": [
        {
          "output_type": "stream",
          "name": "stdout",
          "text": [
            "90 th percentile value is: 112.0\n",
            "91 th percentile value is: 116.0\n",
            "92 th percentile value is: 120.0\n",
            "93 th percentile value is: 124.0\n",
            "94 th percentile value is: 130.0\n",
            "95 th percentile value is: 136.0\n",
            "96 th percentile value is: 144.0\n",
            "97 th percentile value is: 154.0\n",
            "98 th percentile value is: 169.0\n",
            "99 th percentile value is: 195.0\n",
            "100 th percentile value is: 2640.0\n"
          ]
        }
      ]
    },
    {
      "cell_type": "markdown",
      "source": [
        "##Analysis on words"
      ],
      "metadata": {
        "id": "rAMrftQUQZVk"
      }
    },
    {
      "cell_type": "code",
      "source": [
        "word_count = lambda x: len(str(x).split()) \n",
        "\n",
        "df['incorrect_word_len'] = df.iloc[:, 1].apply(word_count)\n",
        "df['correct_word_len'] = df.iloc[:, 0].apply(word_count)"
      ],
      "metadata": {
        "id": "71B6sBwMQV7w"
      },
      "execution_count": 37,
      "outputs": []
    },
    {
      "cell_type": "code",
      "source": [
        "# df.to_csv('/content/drive/MyDrive/GrammarCorrection/Data/preprocessed_word.csv', index=False)"
      ],
      "metadata": {
        "id": "rxynPU25Qtts"
      },
      "execution_count": 38,
      "outputs": []
    },
    {
      "cell_type": "code",
      "source": [
        "data = pd.read_csv('/content/drive/MyDrive/GrammarCorrection/Data/preprocessed_word.csv')"
      ],
      "metadata": {
        "id": "vQpeSAMORM79"
      },
      "execution_count": 39,
      "outputs": []
    },
    {
      "cell_type": "markdown",
      "source": [
        "###Histogram for incorrect words"
      ],
      "metadata": {
        "id": "jQQvTqssRXoY"
      }
    },
    {
      "cell_type": "code",
      "source": [
        "hist_bins = list(range(data['incorrect_word_len'].min(), data['incorrect_word_len'].max()+15,15))\n",
        "sns.displot(list(data['incorrect_word_len'].values), bins=hist_bins, kde=True, color='green',edgecolor='red')\n",
        "plt.grid()\n",
        "plt.title('Distribution of incorrect sentence length')\n",
        "plt.xlabel(\"Bins (length)\")\n",
        "plt.show()"
      ],
      "metadata": {
        "colab": {
          "base_uri": "https://localhost:8080/",
          "height": 399
        },
        "id": "MpOBCFg9RaHK",
        "outputId": "074d1490-f84e-4436-cdf7-5ae9165e2df7"
      },
      "execution_count": 40,
      "outputs": [
        {
          "output_type": "display_data",
          "data": {
            "text/plain": [
              "<Figure size 360x360 with 1 Axes>"
            ],
            "image/png": "[encoded data removed]"
          },
          "metadata": {
            "needs_background": "light"
          }
        }
      ]
    },
    {
      "cell_type": "code",
      "source": [
        "sns.displot(data['incorrect_word_len'].values, kind='ecdf')\n",
        "plt.xlabel(\"length\")\n",
        "plt.title(\"Cumulative distribution on incorrect sentence length\")\n",
        "plt.grid()\n",
        "plt.show()\n",
        "     "
      ],
      "metadata": {
        "colab": {
          "base_uri": "https://localhost:8080/",
          "height": 395
        },
        "id": "hubXwj3hRnOb",
        "outputId": "c1db1f80-7102-40df-80f5-4c0e97800182"
      },
      "execution_count": 41,
      "outputs": [
        {
          "output_type": "display_data",
          "data": {
            "text/plain": [
              "<Figure size 360x360 with 1 Axes>"
            ],
            "image/png": "[encoded data removed]"
          },
          "metadata": {
            "needs_background": "light"
          }
        }
      ]
    },
    {
      "cell_type": "code",
      "source": [
        "\n",
        "print(\"Length statistics of incorrect sentences:\")\n",
        "print(\"=\"*100)\n",
        "\n",
        "print(\"Minimum : \", data['incorrect_word_len'].min())\n",
        "print(\"Maximum : \", data['incorrect_word_len'].max())\n",
        "print(\"Mean : \", data['incorrect_word_len'].mean())\n",
        "print(\"Median : \", data['incorrect_word_len'].median())\n",
        "     "
      ],
      "metadata": {
        "colab": {
          "base_uri": "https://localhost:8080/"
        },
        "id": "nBpGdNxzRqR4",
        "outputId": "18ef3128-8af2-4599-b284-b170a34cbc56"
      },
      "execution_count": 43,
      "outputs": [
        {
          "output_type": "stream",
          "name": "stdout",
          "text": [
            "Length statistics of incorrect sentences:\n",
            "====================================================================================================\n",
            "Minimum :  1\n",
            "Maximum :  494\n",
            "Mean :  13.998355253461925\n",
            "Median :  12.0\n"
          ]
        }
      ]
    },
    {
      "cell_type": "markdown",
      "source": [
        "###Histogram for correct words"
      ],
      "metadata": {
        "id": "KgzM21SaSMRw"
      }
    },
    {
      "cell_type": "code",
      "source": [
        "hist_bins = list(range(data['correct_word_len'].min(), data['correct_word_len'].max()+15,15))\n",
        "sns.displot(list(data['correct_word_len'].values), bins=hist_bins, kde=True, color='green',edgecolor='red')\n",
        "plt.grid()\n",
        "plt.title('Distribution of correct sentence length')\n",
        "plt.xlabel(\"Bins (length)\")\n",
        "plt.show()"
      ],
      "metadata": {
        "colab": {
          "base_uri": "https://localhost:8080/",
          "height": 399
        },
        "id": "0-hPLJkPSNb1",
        "outputId": "78ed1f37-fd47-4819-8996-1759e209ed49"
      },
      "execution_count": 44,
      "outputs": [
        {
          "output_type": "display_data",
          "data": {
            "text/plain": [
              "<Figure size 360x360 with 1 Axes>"
            ],
            "image/png": "[encoded data removed]"
          },
          "metadata": {
            "needs_background": "light"
          }
        }
      ]
    },
    {
      "cell_type": "code",
      "source": [
        "sns.displot(data['correct_word_len'].values, kind='ecdf')\n",
        "plt.xlabel(\"length\")\n",
        "plt.title(\"Cumulative distribution on correct sentence length\")\n",
        "plt.grid()\n",
        "plt.show()"
      ],
      "metadata": {
        "colab": {
          "base_uri": "https://localhost:8080/",
          "height": 395
        },
        "id": "AySva1fqSQbl",
        "outputId": "eb3ba657-0cb8-4896-efbf-fd493565dc6c"
      },
      "execution_count": 45,
      "outputs": [
        {
          "output_type": "display_data",
          "data": {
            "text/plain": [
              "<Figure size 360x360 with 1 Axes>"
            ],
            "image/png": "[encoded data removed]"
          },
          "metadata": {
            "needs_background": "light"
          }
        }
      ]
    },
    {
      "cell_type": "code",
      "source": [
        "\n",
        "print(\"Length statistics of correct sentences:\")\n",
        "print(\"=\"*100)\n",
        "\n",
        "print(\"Minimum : \", data['correct_word_len'].min())\n",
        "print(\"Maximum : \", data['correct_word_len'].max())\n",
        "print(\"Mean : \", data['correct_word_len'].mean())\n",
        "print(\"Median : \", data['correct_word_len'].median())"
      ],
      "metadata": {
        "colab": {
          "base_uri": "https://localhost:8080/"
        },
        "id": "swRf3ckBSSWi",
        "outputId": "7093b3dc-600e-4133-c388-29ab4f4defcd"
      },
      "execution_count": 46,
      "outputs": [
        {
          "output_type": "stream",
          "name": "stdout",
          "text": [
            "Length statistics of correct sentences:\n",
            "====================================================================================================\n",
            "Minimum :  1\n",
            "Maximum :  448\n",
            "Mean :  13.56059525283311\n",
            "Median :  12.0\n"
          ]
        }
      ]
    },
    {
      "cell_type": "markdown",
      "source": [
        "#Bivariate Analysys"
      ],
      "metadata": {
        "id": "ykX-oLBiSaJq"
      }
    },
    {
      "cell_type": "code",
      "source": [
        "sns.kdeplot(data['correct_word_len'], label='correct(word len)', color='green')\n",
        "sns.kdeplot(data['incorrect_word_len'], label='incorrect(word len)')\n",
        "plt.grid()\n",
        "plt.legend()\n",
        "plt.xlabel(\"length (word count)\")\n",
        "plt.plot()"
      ],
      "metadata": {
        "colab": {
          "base_uri": "https://localhost:8080/",
          "height": 297
        },
        "id": "XUjhY5GHSdMw",
        "outputId": "62c8e235-f97a-40ac-a43c-86ec5eb48212"
      },
      "execution_count": 47,
      "outputs": [
        {
          "output_type": "execute_result",
          "data": {
            "text/plain": [
              "[]"
            ]
          },
          "metadata": {},
          "execution_count": 47
        },
        {
          "output_type": "display_data",
          "data": {
            "text/plain": [
              "<Figure size 432x288 with 1 Axes>"
            ],
            "image/png": "[encoded data removed]"
          },
          "metadata": {
            "needs_background": "light"
          }
        }
      ]
    },
    {
      "cell_type": "code",
      "source": [
        "plt.figure(figsize=(10,5))\n",
        "sns.lineplot(data=data, x='incorrect_word_len', y='correct_word_len')\n",
        "plt.grid()\n",
        "plt.title(\"incorrect_word_len v/s correct_word_len\")\n",
        "plt.plot()\n",
        "     "
      ],
      "metadata": {
        "colab": {
          "base_uri": "https://localhost:8080/",
          "height": 369
        },
        "id": "g7OhDrDjSmal",
        "outputId": "fbb28186-a7fb-4522-f636-72d9f5994fca"
      },
      "execution_count": 48,
      "outputs": [
        {
          "output_type": "execute_result",
          "data": {
            "text/plain": [
              "[]"
            ]
          },
          "metadata": {},
          "execution_count": 48
        },
        {
          "output_type": "display_data",
          "data": {
            "text/plain": [
              "<Figure size 720x360 with 1 Axes>"
            ],
            "image/png": "[encoded data removed]"
          },
          "metadata": {
            "needs_background": "light"
          }
        }
      ]
    },
    {
      "cell_type": "markdown",
      "source": [
        "#Vocabulary"
      ],
      "metadata": {
        "id": "5y-3gkUDSt25"
      }
    },
    {
      "cell_type": "code",
      "source": [
        "cv_incorrect = CountVectorizer()\n",
        "cv_incorrect.fit(data['incorrect'].astype(str).tolist())\n",
        "\n",
        "print('Incorrect vocab size = ', len(cv_incorrect.get_feature_names()))"
      ],
      "metadata": {
        "colab": {
          "base_uri": "https://localhost:8080/"
        },
        "id": "ii0DeK5GSwXm",
        "outputId": "17584ed8-f73b-479e-98b1-4472918c1ea1"
      },
      "execution_count": 52,
      "outputs": [
        {
          "output_type": "stream",
          "name": "stdout",
          "text": [
            "Incorrect vocab size =  85673\n"
          ]
        }
      ]
    },
    {
      "cell_type": "code",
      "source": [
        "cv_correct = CountVectorizer()\n",
        "cv_correct.fit(data['correct'].astype(str).tolist())\n",
        "print('Correct vocab size = ', len(cv_correct.get_feature_names()))"
      ],
      "metadata": {
        "colab": {
          "base_uri": "https://localhost:8080/"
        },
        "id": "uPd_pnEMS6_K",
        "outputId": "6db262e9-d0de-4bc6-e4d1-c8763d4caedd"
      },
      "execution_count": 53,
      "outputs": [
        {
          "output_type": "stream",
          "name": "stdout",
          "text": [
            "Correct vocab size =  66597\n"
          ]
        }
      ]
    },
    {
      "cell_type": "code",
      "source": [
        "incorrect_vocab = set(cv_incorrect.get_feature_names())\n",
        "correct_vocab = set(cv_correct.get_feature_names())\n",
        "\n",
        "total_words_cnt = len(incorrect_vocab.union(correct_vocab))\n",
        "total_incorrect_words_cnt = len(incorrect_vocab.difference(correct_vocab))\n",
        "cnt_correct_words_from_both = len(incorrect_vocab.intersection(correct_vocab))\n",
        "total_correct_words_cnt = len(correct_vocab.difference(incorrect_vocab)) + cnt_correct_words_from_both\n",
        "\n",
        "     \n",
        "\n",
        "print(\"Count of words from incorrect sentences vocabulary: \", len(incorrect_vocab))\n",
        "print(\"Count of words from correct sentences vocabulary: \", len(correct_vocab))\n",
        "print(\"\\n\")\n",
        "print(\"Total words: \", total_words_cnt)\n",
        "print(f\"Total incorrect words: {total_incorrect_words_cnt} percentage: {np.round((total_incorrect_words_cnt/total_words_cnt)*100, 4)}\")\n",
        "print(f\"Total correct words: {total_correct_words_cnt} percentage: {np.round((total_correct_words_cnt/total_words_cnt)*100, 4)}\")\n",
        "     "
      ],
      "metadata": {
        "colab": {
          "base_uri": "https://localhost:8080/"
        },
        "id": "S7tsZProTDjk",
        "outputId": "5f9d1cdc-883b-4aa3-e2ef-0a08ec00e424"
      },
      "execution_count": 54,
      "outputs": [
        {
          "output_type": "stream",
          "name": "stdout",
          "text": [
            "Count of words from incorrect sentences vocabulary:  85673\n",
            "Count of words from correct sentences vocabulary:  66597\n",
            "\n",
            "\n",
            "Total words:  96403\n",
            "Total incorrect words: 29806 percentage: 30.9181\n",
            "Total correct words: 66597 percentage: 69.0819\n"
          ]
        }
      ]
    }
  ]
}