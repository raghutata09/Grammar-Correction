{
  "nbformat": 4,
  "nbformat_minor": 0,
  "metadata": {
    "colab": {
      "provenance": []
    },
    "kernelspec": {
      "name": "python3",
      "display_name": "Python 3"
    },
    "language_info": {
      "name": "python"
    }
  },
  "cells": [
    {
      "cell_type": "code",
      "source": [
        "from google.colab import drive\n",
        "drive.mount('/content/drive')"
      ],
      "metadata": {
        "colab": {
          "base_uri": "https://localhost:8080/"
        },
        "id": "RHIBj4z_gCCn",
        "outputId": "29cd8a88-3b36-4374-cdee-802c3010f8b0"
      },
      "execution_count": 1,
      "outputs": [
        {
          "output_type": "stream",
          "name": "stdout",
          "text": [
            "Mounted at /content/drive\n"
          ]
        }
      ]
    },
    {
      "cell_type": "code",
      "source": [
        "import pandas as pd\n",
        "     "
      ],
      "metadata": {
        "id": "DNU9HnAXjJ_e"
      },
      "execution_count": 9,
      "outputs": []
    },
    {
      "cell_type": "code",
      "source": [
        "# !wget https://www.comp.nus.edu.sg/~nlp/conll14st/conll14st-test-data.tar.gz -P /content/\n",
        "\n",
        "# !tar -xvzf '/content/conll14st-test-data.tar.gz' -C '/content/drive/MyDrive/GrammarCorrection/Data/'\n",
        " "
      ],
      "metadata": {
        "id": "R57Elop4f-BY",
        "colab": {
          "base_uri": "https://localhost:8080/"
        },
        "outputId": "01e6d45f-c8b5-427c-b457-51fecc0c7831"
      },
      "execution_count": 5,
      "outputs": [
        {
          "output_type": "stream",
          "name": "stdout",
          "text": [
            "--2022-12-09 10:58:00--  https://www.comp.nus.edu.sg/~nlp/conll14st/conll14st-test-data.tar.gz\n",
            "Resolving www.comp.nus.edu.sg (www.comp.nus.edu.sg)... 45.60.31.225\n",
            "Connecting to www.comp.nus.edu.sg (www.comp.nus.edu.sg)|45.60.31.225|:443... connected.\n",
            "HTTP request sent, awaiting response... 200 OK\n",
            "Length: 643482 (628K) [application/x-gzip]\n",
            "Saving to: ‘/content/conll14st-test-data.tar.gz’\n",
            "\n",
            "conll14st-test-data 100%[===================>] 628.40K   151KB/s    in 4.2s    \n",
            "\n",
            "2022-12-09 10:58:05 (151 KB/s) - ‘/content/conll14st-test-data.tar.gz’ saved [643482/643482]\n",
            "\n",
            "conll14st-test-data/\n",
            "conll14st-test-data/scripts/\n",
            "conll14st-test-data/scripts/parser_feature.py\n",
            "conll14st-test-data/scripts/preprocess.py\n",
            "conll14st-test-data/scripts/nuclesgmlparser.py\n",
            "conll14st-test-data/scripts/README\n",
            "conll14st-test-data/scripts/nucle_doc.py\n",
            "conll14st-test-data/scripts/preprocesscombine.py\n",
            "conll14st-test-data/scripts/preprocesswithalt.py\n",
            "conll14st-test-data/scripts/iparser.py\n",
            "conll14st-test-data/noalt/\n",
            "conll14st-test-data/noalt/official-2014.1.conll.ann\n",
            "conll14st-test-data/noalt/official-2014.0.sgml\n",
            "conll14st-test-data/noalt/official-2014.combined.m2\n",
            "conll14st-test-data/noalt/official-2014.1.sgml\n",
            "conll14st-test-data/noalt/official-2014.1.m2\n",
            "conll14st-test-data/noalt/official-2014.0.conll.ann\n",
            "conll14st-test-data/noalt/official-2014.0.m2\n",
            "conll14st-test-data/README\n",
            "conll14st-test-data/alt/\n",
            "conll14st-test-data/alt/alternative-teama.sgml\n",
            "conll14st-test-data/alt/alternative-teamc.sgml\n",
            "conll14st-test-data/alt/alternative-teamb.sgml\n",
            "conll14st-test-data/alt/official-2014.combined-withalt.m2\n"
          ]
        }
      ]
    },
    {
      "cell_type": "code",
      "source": [
        "def process_m2file(m2_file, out_file, id=0):\n",
        "\n",
        "  \"\"\"\n",
        "  This function used to convert .m2 file to .txt file. \n",
        "  This functions return dataframe with correct, incorrect, total_edits \n",
        "\n",
        "  Arguments:\n",
        "  m2_file: path to .m2 file\n",
        "  out: path to .txt file\n",
        "  id: Annotator id\n",
        "\n",
        "  converts specified annotators text from erroneous to non-erroneous\n",
        "  \"\"\"\n",
        "  \n",
        "  m2 = open(m2_file).read().strip().split(\"\\n\\n\")\n",
        "  out = open(out_file, \"w\")\n",
        "  # Do not apply edits with these error types\n",
        "  skip = {\"noop\", \"UNK\", \"Um\"}\n",
        "  total_edits = []\n",
        "  \n",
        "  for sent in m2:\n",
        "    sent = sent.split(\"\\n\")\n",
        "    cor_sent = sent[0].split()[1:] # Ignore \"S \"\n",
        "    edits = sent[1:]\n",
        "    offset = 0\n",
        "    cur_edit = 0\n",
        "    for edit in edits:\n",
        "      edit = edit.split(\"|||\")\n",
        "      if edit[1] in skip: continue # Ignore certain edits\n",
        "      coder = int(edit[-1])\n",
        "      if coder != id: continue # Ignore other coders\n",
        "      span = edit[0].split()[1:] # Ignore \"A \"\n",
        "      start = int(span[0])\n",
        "      end = int(span[1])\n",
        "      cor = edit[2].split()\n",
        "      cor_sent[start+offset:end+offset] = cor\n",
        "      cur_edit+=1\n",
        "      offset = offset-(end-start)+len(cor)\n",
        "    total_edits.append(cur_edit)\n",
        "    out.write(\" \".join(cor_sent)+\"\\n\")\n",
        "  out.close()\n",
        "\n",
        "  file1 = open(m2_file,\"r\")\n",
        "  s1 = file1.read()\n",
        "\n",
        "  each_sent = s1.split(\"\\n\\n\")\n",
        "\n",
        "  incorrect = []\n",
        "  for i in range(len(each_sent)):\n",
        "      temp = each_sent[i].split(\"\\n\")\n",
        "      temp = temp[0]\n",
        "      temp = temp.split(\" \")\n",
        "      temp = temp[1:]# ignore S\n",
        "      temp = ' '.join(temp)\n",
        "      incorrect.append(temp)\n",
        "      \n",
        "  #preprocessing correct sentences\n",
        "\n",
        "  file2 = open(out_file, \"r\")\n",
        "  s2 = file2.read()\n",
        "\n",
        "  correct = s2.split(\"\\n\")\n",
        "\n",
        "  print(\"Preparing dataframe\")\n",
        "  df = pd.DataFrame()\n",
        "  df[\"correct\"] = correct\n",
        "  df[\"incorrect\"] = incorrect\n",
        "  total_edits.append(0)\n",
        "  df['total_edits'] = total_edits\n",
        "\n",
        "  return df"
      ],
      "metadata": {
        "id": "zSp1I1p2gblB"
      },
      "execution_count": 7,
      "outputs": []
    },
    {
      "cell_type": "code",
      "source": [
        "data_id0 = process_m2file(m2_file='/content/drive/My Drive/GrammarCorrection/Data/conll14st-test-data/noalt/official-2014.combined.m2',\n",
        "                      out_file='/content/drive/My Drive/GrammarCorrection/Data/conll14st-test-data/noalt/official-2014.combined.m2_id0_corrected.txt',\n",
        "                      id=0)"
      ],
      "metadata": {
        "id": "r-PPQbmrgeiv",
        "colab": {
          "base_uri": "https://localhost:8080/"
        },
        "outputId": "eb2bb31e-bbcd-44ea-9008-0a6fc70062a8"
      },
      "execution_count": 10,
      "outputs": [
        {
          "output_type": "stream",
          "name": "stdout",
          "text": [
            "Preparing dataframe\n"
          ]
        }
      ]
    },
    {
      "cell_type": "code",
      "source": [
        "data_id0.shape"
      ],
      "metadata": {
        "colab": {
          "base_uri": "https://localhost:8080/"
        },
        "id": "a00s_u0mg5-w",
        "outputId": "dd1f7d1d-80e4-468a-e6d3-20e503722291"
      },
      "execution_count": 11,
      "outputs": [
        {
          "output_type": "execute_result",
          "data": {
            "text/plain": [
              "(1313, 3)"
            ]
          },
          "metadata": {},
          "execution_count": 11
        }
      ]
    },
    {
      "cell_type": "code",
      "source": [
        "#save dataframe\n",
        "data_id0.to_csv('/content/drive/MyDrive/GrammarCorrection/Data/data_collection/conll14_combined_id0.csv', index=False)"
      ],
      "metadata": {
        "id": "pGinA9Nhg7kX"
      },
      "execution_count": 13,
      "outputs": []
    },
    {
      "cell_type": "markdown",
      "source": [
        "#Lang8 data set"
      ],
      "metadata": {
        "id": "vtjusCC3hKmg"
      }
    },
    {
      "cell_type": "code",
      "source": [
        "!wget --header=\"Host: doc-0g-7s-docs.googleusercontent.com\" --header=\"User-Agent: Mozilla/5.0 (Macintosh; Intel Mac OS X 10_15_7) AppleWebKit/537.36 (KHTML, like Gecko) Chrome/107.0.0.0 Safari/537.36\" --header=\"Accept: text/html,application/xhtml+xml,application/xml;q=0.9,image/avif,image/webp,image/apng,*/*;q=0.8,application/signed-exchange;v=b3;q=0.9\" --header=\"Accept-Language: en-GB,en-US;q=0.9,en;q=0.8\" --header=\"Cookie: AUTH_bethcp9rn39ka2kmrd545br566r951gq_nonce=qujc9fn88q1bg\" --header=\"Connection: keep-alive\" \"https://doc-0g-7s-docs.googleusercontent.com/docs/securesc/22md60cfnqgvnvkdfr99parer0vfbk67/chk935ml30qevkgl9topbpkcjb36nf07/1670583900000/15187745062133414559/02427598508910905988/148M_4LvHyb0J_sNWxrFSYjv3lO5ACigK?e=download&ax=AEKYgySSai5T4Z4ddToDIaHGobOxv9zTfktZdR93SiV6WbUKYquUjFRBXmklJF_lODAxoVuxowrzgRjFnfLDppfQ7EoGAS7PmlxanqkZOjcZL2ESrVglh2XZ5wAZZv48sQ5SigQgFxQ9V78UaIqUbzityVZydPoxX2tr58AXo5I0h5CMAbZaJ8I9vTdC35PUjANI8Po0WIkh4QQFWvwNhYyEoAD3IeYWWV73jAKc-_n4KV-F7JlVlQlypzx88ZJo5H7VOYMxAfxYnaSZXM7w0RWRxoukYLdgzMgpwC5nJxUeCrCTyXEHHBpbJXMsNV9c11JoDd7kj2WaSZUGhjkCsxQ8BdLU7-Fct_VfsnOLuIcWhgKmR0KTIjw9dsVtwzP-BuJjUpTzdj3qy_AjQN__zFqJ6I3yiIm7F8YJ7qh06SElUxc8rJtZfYD8nLSye5OedJw6F6b-WHamQQCe1NmWrCATJHsgwR9BLz416iYmeAm4leBNpRauaPFN-dxMPldG2zCH88-Xa7YN7spdCfNH6U10XHjy_l5DzmUpXRPjg71fDavjBDSsdl72ISZEGOchsR5YbkVCegFh1ain0GvT4Xz3MHetqVbJ5Io28F-ckCpV3j6HUSZx3ysgXBX1gE0FYBZEWzd6_ZVviDL170sUOg6jzvHPb0IPLX6lcZbly4h2Arkyn7YFxpIQV3d6AzN2Wbb5af8Hdq08cX1pRKsEWmbd1ihJuqa8J8xW5uLwDWeEkGW-3Vg_COGcTY7tpj7U7PAC22Z_dn7Dsr-1zHngKYWGyjE15A-AB2vRyrEBAOlF-zHPJpIz7_9osDCOFsw--k3yjaLHCdGJuTGfyoDDAGLDk_gc8k20L6-oDIhEEFkP_6w2Fk1scALuvcEV7YxhN8Q4AlxUZfGg0kby1q5PA0RhaciVtAP1eetau280IN8&uuid=64d88c8d-dcf7-456c-8a94-73e08d81fc12&authuser=0&nonce=qujc9fn88q1bg&user=02427598508910905988&hash=gbopnkoijageg136qd19vnetjttih9ac\" -c -O 'lang8.bea19.tar.gz'"
      ],
      "metadata": {
        "colab": {
          "base_uri": "https://localhost:8080/"
        },
        "id": "Ucs412y3hmu8",
        "outputId": "7f8e6983-ae15-4b22-f62c-135b2ed2b281"
      },
      "execution_count": 15,
      "outputs": [
        {
          "output_type": "stream",
          "name": "stdout",
          "text": [
            "--2022-12-09 11:05:44--  https://doc-0g-7s-docs.googleusercontent.com/docs/securesc/22md60cfnqgvnvkdfr99parer0vfbk67/chk935ml30qevkgl9topbpkcjb36nf07/1670583900000/15187745062133414559/02427598508910905988/148M_4LvHyb0J_sNWxrFSYjv3lO5ACigK?e=download&ax=AEKYgySSai5T4Z4ddToDIaHGobOxv9zTfktZdR93SiV6WbUKYquUjFRBXmklJF_lODAxoVuxowrzgRjFnfLDppfQ7EoGAS7PmlxanqkZOjcZL2ESrVglh2XZ5wAZZv48sQ5SigQgFxQ9V78UaIqUbzityVZydPoxX2tr58AXo5I0h5CMAbZaJ8I9vTdC35PUjANI8Po0WIkh4QQFWvwNhYyEoAD3IeYWWV73jAKc-_n4KV-F7JlVlQlypzx88ZJo5H7VOYMxAfxYnaSZXM7w0RWRxoukYLdgzMgpwC5nJxUeCrCTyXEHHBpbJXMsNV9c11JoDd7kj2WaSZUGhjkCsxQ8BdLU7-Fct_VfsnOLuIcWhgKmR0KTIjw9dsVtwzP-BuJjUpTzdj3qy_AjQN__zFqJ6I3yiIm7F8YJ7qh06SElUxc8rJtZfYD8nLSye5OedJw6F6b-WHamQQCe1NmWrCATJHsgwR9BLz416iYmeAm4leBNpRauaPFN-dxMPldG2zCH88-Xa7YN7spdCfNH6U10XHjy_l5DzmUpXRPjg71fDavjBDSsdl72ISZEGOchsR5YbkVCegFh1ain0GvT4Xz3MHetqVbJ5Io28F-ckCpV3j6HUSZx3ysgXBX1gE0FYBZEWzd6_ZVviDL170sUOg6jzvHPb0IPLX6lcZbly4h2Arkyn7YFxpIQV3d6AzN2Wbb5af8Hdq08cX1pRKsEWmbd1ihJuqa8J8xW5uLwDWeEkGW-3Vg_COGcTY7tpj7U7PAC22Z_dn7Dsr-1zHngKYWGyjE15A-AB2vRyrEBAOlF-zHPJpIz7_9osDCOFsw--k3yjaLHCdGJuTGfyoDDAGLDk_gc8k20L6-oDIhEEFkP_6w2Fk1scALuvcEV7YxhN8Q4AlxUZfGg0kby1q5PA0RhaciVtAP1eetau280IN8&uuid=64d88c8d-dcf7-456c-8a94-73e08d81fc12&authuser=0&nonce=qujc9fn88q1bg&user=02427598508910905988&hash=gbopnkoijageg136qd19vnetjttih9ac\n",
            "Resolving doc-0g-7s-docs.googleusercontent.com (doc-0g-7s-docs.googleusercontent.com)... 74.125.20.132, 2607:f8b0:400e:c07::84\n",
            "Connecting to doc-0g-7s-docs.googleusercontent.com (doc-0g-7s-docs.googleusercontent.com)|74.125.20.132|:443... connected.\n",
            "HTTP request sent, awaiting response... 200 OK\n",
            "Length: 34008151 (32M) [application/x-gzip]\n",
            "Saving to: ‘lang8.bea19.tar.gz’\n",
            "\n",
            "lang8.bea19.tar.gz  100%[===================>]  32.43M   105MB/s    in 0.3s    \n",
            "\n",
            "2022-12-09 11:05:45 (105 MB/s) - ‘lang8.bea19.tar.gz’ saved [34008151/34008151]\n",
            "\n"
          ]
        }
      ]
    },
    {
      "cell_type": "code",
      "source": [
        "!tar -xvzf '/content/lang8.bea19.tar.gz' -C '/content/drive/My Drive/GrammarCorrection/Data/data_collection/'\n",
        "     "
      ],
      "metadata": {
        "colab": {
          "base_uri": "https://localhost:8080/"
        },
        "id": "bvJff4xAhLaY",
        "outputId": "fff68feb-ec93-48a3-fa97-d51a906f7906"
      },
      "execution_count": 17,
      "outputs": [
        {
          "output_type": "stream",
          "name": "stdout",
          "text": [
            "lang8.train.auto.bea19.m2\n",
            "lang8_to_m2.py\n",
            "readme.txt\n"
          ]
        }
      ]
    },
    {
      "cell_type": "code",
      "source": [
        "data_lang8_id0 = process_m2file(m2_file='/content/drive/MyDrive/GrammarCorrection/Data/data_collection/lang8.train.auto.bea19.m2',\n",
        "                            out_file='/content/drive/MyDrive/GrammarCorrection/Data/data_collection/lang8.train.auto.bea19.m2_id0_corrected.txt',\n",
        "                            id=0)\n",
        "data_lang8_id0.shape"
      ],
      "metadata": {
        "colab": {
          "base_uri": "https://localhost:8080/"
        },
        "id": "dEhRrBx9hRJv",
        "outputId": "53f2eaf2-bd4c-4b2b-f84e-0c1d0e24ad11"
      },
      "execution_count": 18,
      "outputs": [
        {
          "output_type": "stream",
          "name": "stdout",
          "text": [
            "Preparing dataframe\n"
          ]
        },
        {
          "output_type": "execute_result",
          "data": {
            "text/plain": [
              "(1037562, 3)"
            ]
          },
          "metadata": {},
          "execution_count": 18
        }
      ]
    },
    {
      "cell_type": "code",
      "source": [
        "data_lang8_id0.to_csv('/content/drive/MyDrive/GrammarCorrection/Data/data_collection/lang8_anno_id_0.csv', index=False)\n",
        "     "
      ],
      "metadata": {
        "id": "wXbrspTvhV3U"
      },
      "execution_count": 19,
      "outputs": []
    },
    {
      "cell_type": "code",
      "source": [
        "data_lang8_id1 = process_m2file(m2_file='/content/drive/MyDrive/GrammarCorrection/Data/data_collection/lang8.train.auto.bea19.m2',\n",
        "                            out_file='/content/drive/MyDrive/GrammarCorrection/Data/data_collection/lang8.train.auto.bea19.m2_id1_corrected.txt',\n",
        "                            id=1)\n",
        "     "
      ],
      "metadata": {
        "colab": {
          "base_uri": "https://localhost:8080/"
        },
        "id": "zdG-rPyIhXFr",
        "outputId": "0109d24d-8bc4-4dfa-fbcd-4e438ea5b59e"
      },
      "execution_count": 20,
      "outputs": [
        {
          "output_type": "stream",
          "name": "stdout",
          "text": [
            "Preparing dataframe\n"
          ]
        }
      ]
    },
    {
      "cell_type": "code",
      "source": [
        "data_lang8_id1.to_csv('/content/drive/MyDrive/GrammarCorrection/Data/data_collection/lang8_anno_id1.csv', index=False)\n",
        "     "
      ],
      "metadata": {
        "id": "DlW-ah0uhZmi"
      },
      "execution_count": 21,
      "outputs": []
    }
  ]
}